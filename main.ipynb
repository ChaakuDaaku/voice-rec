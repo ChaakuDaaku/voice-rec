{
 "cells": [
  {
   "cell_type": "code",
   "execution_count": 1,
   "metadata": {},
   "outputs": [
    {
     "name": "stderr",
     "output_type": "stream",
     "text": [
      "Using TensorFlow backend.\n"
     ]
    }
   ],
   "source": [
    "import keras\n",
    "from keras.layers import Activation, Dense, Dropout, Conv2D, \\\n",
    "                         Flatten, MaxPooling2D\n",
    "from keras.models import Sequential\n",
    "import librosa\n",
    "import librosa.display\n",
    "import numpy as np\n",
    "import pandas as pd\n",
    "import random\n",
    "\n",
    "import warnings\n",
    "warnings.filterwarnings('ignore')"
   ]
  },
  {
   "cell_type": "code",
   "execution_count": 2,
   "metadata": {},
   "outputs": [
    {
     "data": {
      "text/html": [
       "<div>\n",
       "<style scoped>\n",
       "    .dataframe tbody tr th:only-of-type {\n",
       "        vertical-align: middle;\n",
       "    }\n",
       "\n",
       "    .dataframe tbody tr th {\n",
       "        vertical-align: top;\n",
       "    }\n",
       "\n",
       "    .dataframe thead th {\n",
       "        text-align: right;\n",
       "    }\n",
       "</style>\n",
       "<table border=\"1\" class=\"dataframe\">\n",
       "  <thead>\n",
       "    <tr style=\"text-align: right;\">\n",
       "      <th></th>\n",
       "      <th>sr</th>\n",
       "      <th>audio</th>\n",
       "      <th>classID</th>\n",
       "      <th>fold</th>\n",
       "    </tr>\n",
       "  </thead>\n",
       "  <tbody>\n",
       "    <tr>\n",
       "      <th>0</th>\n",
       "      <td>0</td>\n",
       "      <td>LJ001-0001.wav</td>\n",
       "      <td>1</td>\n",
       "      <td>11</td>\n",
       "    </tr>\n",
       "    <tr>\n",
       "      <th>1</th>\n",
       "      <td>1</td>\n",
       "      <td>LJ001-0002.wav</td>\n",
       "      <td>1</td>\n",
       "      <td>11</td>\n",
       "    </tr>\n",
       "    <tr>\n",
       "      <th>2</th>\n",
       "      <td>2</td>\n",
       "      <td>LJ001-0003.wav</td>\n",
       "      <td>1</td>\n",
       "      <td>11</td>\n",
       "    </tr>\n",
       "  </tbody>\n",
       "</table>\n",
       "</div>"
      ],
      "text/plain": [
       "   sr           audio  classID  fold\n",
       "0   0  LJ001-0001.wav        1    11\n",
       "1   1  LJ001-0002.wav        1    11\n",
       "2   2  LJ001-0003.wav        1    11"
      ]
     },
     "execution_count": 2,
     "metadata": {},
     "output_type": "execute_result"
    }
   ],
   "source": [
    "# Read Data\n",
    "data = pd.read_csv('metadata.csv')\n",
    "data.head(3)"
   ]
  },
  {
   "cell_type": "code",
   "execution_count": 3,
   "metadata": {},
   "outputs": [
    {
     "data": {
      "text/plain": [
       "(20522, 4)"
      ]
     },
     "execution_count": 3,
     "metadata": {},
     "output_type": "execute_result"
    }
   ],
   "source": [
    "data.shape"
   ]
  },
  {
   "cell_type": "code",
   "execution_count": 4,
   "metadata": {},
   "outputs": [
    {
     "data": {
      "text/plain": [
       "(20522, 3)"
      ]
     },
     "execution_count": 4,
     "metadata": {},
     "output_type": "execute_result"
    }
   ],
   "source": [
    "valid_data = data[['audio', 'classID', 'fold']]\n",
    "valid_data.shape"
   ]
  },
  {
   "cell_type": "code",
   "execution_count": 5,
   "metadata": {},
   "outputs": [],
   "source": [
    "valid_data['path'] = 'fold' + valid_data['fold'].astype('str') + '/' + valid_data['audio'].astype('str')"
   ]
  },
  {
   "cell_type": "code",
   "execution_count": 6,
   "metadata": {},
   "outputs": [],
   "source": [
    "audio_files = []\n",
    "\n",
    "for row in valid_data.itertuples():\n",
    "    audio_files.append(row.path)"
   ]
  },
  {
   "cell_type": "code",
   "execution_count": null,
   "metadata": {},
   "outputs": [],
   "source": [
    "D = [] # Dataset\n",
    "\n",
    "for row, row_dict in zip(audio_files, valid_data.classID):\n",
    "    try:\n",
    "        y, sr = librosa.load('dataset/audio/'+row, duration=2.97)\n",
    "        ps = librosa.feature.melspectrogram(y=y, sr=sr)\n",
    "            if ps.shape != (128, 128): continue\n",
    "        D.append( (ps, row_dict) )\n",
    "    except:\n",
    "        print('Something is wrong with '+row)\n",
    "    else:\n",
    "        continue"
   ]
  },
  {
   "cell_type": "code",
   "execution_count": 8,
   "metadata": {},
   "outputs": [
    {
     "name": "stdout",
     "output_type": "stream",
     "text": [
      "Number of samples:  15929\n"
     ]
    }
   ],
   "source": [
    "print(\"Number of samples: \", len(D))"
   ]
  },
  {
   "cell_type": "code",
   "execution_count": 10,
   "metadata": {},
   "outputs": [],
   "source": [
    "dataset = D\n",
    "random.shuffle(dataset)\n",
    "\n",
    "train = dataset[:14500]\n",
    "test = dataset[14500:]\n",
    "\n",
    "X_train, y_train = zip(*train)\n",
    "X_test, y_test = zip(*test)\n",
    "\n",
    "# Reshape for CNN input\n",
    "X_train = np.array([x.reshape( (128, 128, 1) ) for x in X_train])\n",
    "X_test = np.array([x.reshape( (128, 128, 1) ) for x in X_test])\n",
    "\n",
    "# One-Hot encoding for classes\n",
    "y_train = np.array(keras.utils.to_categorical(y_train, 4))\n",
    "y_test = np.array(keras.utils.to_categorical(y_test, 4))"
   ]
  },
  {
   "cell_type": "code",
   "execution_count": 13,
   "metadata": {},
   "outputs": [],
   "source": [
    "model = Sequential()\n",
    "input_shape=(128, 128, 1)\n",
    "\n",
    "model.add(Conv2D(24, (5, 5), strides=(1, 1), input_shape=input_shape))\n",
    "model.add(MaxPooling2D((4, 2), strides=(4, 2)))\n",
    "model.add(Activation('relu'))\n",
    "\n",
    "model.add(Conv2D(48, (5, 5), padding=\"valid\"))\n",
    "model.add(MaxPooling2D((4, 2), strides=(4, 2)))\n",
    "model.add(Activation('relu'))\n",
    "\n",
    "model.add(Conv2D(48, (5, 5), padding=\"valid\"))\n",
    "model.add(Activation('relu'))\n",
    "\n",
    "model.add(Flatten())\n",
    "model.add(Dropout(rate=0.5))\n",
    "\n",
    "model.add(Dense(64))\n",
    "model.add(Activation('relu'))\n",
    "model.add(Dropout(rate=0.5))\n",
    "\n",
    "model.add(Dense(4))\n",
    "model.add(Activation('softmax'))"
   ]
  },
  {
   "cell_type": "code",
   "execution_count": 14,
   "metadata": {},
   "outputs": [
    {
     "name": "stdout",
     "output_type": "stream",
     "text": [
      "WARNING:tensorflow:From d:\\program_files\\miniconda3\\envs\\voicerec\\lib\\site-packages\\tensorflow\\python\\ops\\math_ops.py:3066: to_int32 (from tensorflow.python.ops.math_ops) is deprecated and will be removed in a future version.\n",
      "Instructions for updating:\n",
      "Use tf.cast instead.\n",
      "Train on 14500 samples, validate on 1429 samples\n",
      "Epoch 1/12\n",
      "14500/14500 [==============================] - 188s 13ms/step - loss: 0.4646 - acc: 0.9337 - val_loss: 0.1472 - val_acc: 0.9825\n",
      "Epoch 2/12\n",
      "14500/14500 [==============================] - 182s 13ms/step - loss: 0.1261 - acc: 0.9841 - val_loss: 0.0660 - val_acc: 0.9895\n",
      "Epoch 3/12\n",
      "14500/14500 [==============================] - 182s 13ms/step - loss: 0.0596 - acc: 0.9911 - val_loss: 0.0663 - val_acc: 0.9895\n",
      "Epoch 4/12\n",
      "14500/14500 [==============================] - 182s 13ms/step - loss: 0.0431 - acc: 0.9939 - val_loss: 0.0480 - val_acc: 0.9923\n",
      "Epoch 5/12\n",
      "14500/14500 [==============================] - 181s 12ms/step - loss: 0.0381 - acc: 0.9941 - val_loss: 0.0373 - val_acc: 0.9951\n",
      "Epoch 6/12\n",
      "14500/14500 [==============================] - 181s 12ms/step - loss: 0.0210 - acc: 0.9968 - val_loss: 0.0556 - val_acc: 0.9902\n",
      "Epoch 7/12\n",
      "14500/14500 [==============================] - 182s 13ms/step - loss: 0.0178 - acc: 0.9972 - val_loss: 0.0315 - val_acc: 0.9951\n",
      "Epoch 8/12\n",
      "14500/14500 [==============================] - 181s 12ms/step - loss: 0.0207 - acc: 0.9967 - val_loss: 0.0377 - val_acc: 0.9951\n",
      "Epoch 9/12\n",
      "14500/14500 [==============================] - 181s 13ms/step - loss: 0.0166 - acc: 0.9974 - val_loss: 0.0313 - val_acc: 0.9944\n",
      "Epoch 10/12\n",
      "14500/14500 [==============================] - 185s 13ms/step - loss: 0.0163 - acc: 0.9977 - val_loss: 0.0326 - val_acc: 0.9951\n",
      "Epoch 11/12\n",
      "14500/14500 [==============================] - 181s 12ms/step - loss: 0.0163 - acc: 0.9973 - val_loss: 0.0290 - val_acc: 0.9944\n",
      "Epoch 12/12\n",
      "14500/14500 [==============================] - 181s 12ms/step - loss: 0.0147 - acc: 0.9981 - val_loss: 0.0280 - val_acc: 0.9958\n",
      "1429/1429 [==============================] - 7s 5ms/step\n",
      "Test loss: 0.02798131039738264\n",
      "Test accuracy: 0.9958012596221134\n"
     ]
    }
   ],
   "source": [
    "model.compile(\n",
    "\toptimizer=\"Adam\",\n",
    "\tloss=\"categorical_crossentropy\",\n",
    "\tmetrics=['accuracy'])\n",
    "\n",
    "model.fit(\n",
    "\tx=X_train, \n",
    "\ty=y_train,\n",
    "    epochs=12,\n",
    "    batch_size=128,\n",
    "    validation_data= (X_test, y_test))\n",
    "\n",
    "score = model.evaluate(\n",
    "\tx=X_test,\n",
    "\ty=y_test)\n",
    "\n",
    "print('Test loss:', score[0])\n",
    "print('Test accuracy:', score[1])"
   ]
  },
  {
   "cell_type": "code",
   "execution_count": 15,
   "metadata": {},
   "outputs": [],
   "source": [
    "model.save('voice_model.h5')"
   ]
  },
  {
   "cell_type": "code",
   "execution_count": null,
   "metadata": {},
   "outputs": [],
   "source": []
  }
 ],
 "metadata": {
  "kernelspec": {
   "display_name": "Python 3",
   "language": "python",
   "name": "python3"
  },
  "language_info": {
   "codemirror_mode": {
    "name": "ipython",
    "version": 3
   },
   "file_extension": ".py",
   "mimetype": "text/x-python",
   "name": "python",
   "nbconvert_exporter": "python",
   "pygments_lexer": "ipython3",
   "version": "3.7.3"
  }
 },
 "nbformat": 4,
 "nbformat_minor": 2
}
